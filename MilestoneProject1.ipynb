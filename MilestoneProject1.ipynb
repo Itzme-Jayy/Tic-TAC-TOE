{
 "cells": [
  {
   "cell_type": "code",
   "execution_count": 1,
   "id": "6ecd0c39-f3bf-4ed9-a0a1-653865f3a050",
   "metadata": {},
   "outputs": [],
   "source": [
    "from IPython.display import clear_output\n",
    "game_board = [' ']*1000\n",
    "def display_board(board):\n",
    "    clear_output()\n",
    "    print(board[1] + '|' + board[2] + '|' + board[3])\n",
    "    print(board[4] + '|' + board[5] + '|' + board[6])\n",
    "    print(board[7] + '|' + board[8] + '|' + board[9])\n"
   ]
  },
  {
   "cell_type": "code",
   "execution_count": 3,
   "id": "15624a1e-70d5-4d9a-91ac-01a4281704ff",
   "metadata": {},
   "outputs": [],
   "source": [
    "def player_choose():\n",
    "    player1_choice = 'worng'\n",
    "    player2_choice = 'wrong'\n",
    "    while player1_choice not in ['X', 'O']:\n",
    "        player1_choice = input(\"Player1 would you like to play X or O\").upper()\n",
    "        if player1_choice not in ['X','O']:\n",
    "            print(\"I dont understand, please choose X or O\")\n",
    "    if player1_choice == 'X':\n",
    "        player2_choice = 'O'\n",
    "    else:\n",
    "        player2_choice = 'X'\n",
    "        \n",
    "    return player1_choice,player2_choice\n"
   ]
  },
  {
   "cell_type": "code",
   "execution_count": 5,
   "id": "4b7e97ce-341a-452c-96fe-6c4be9f5a6cd",
   "metadata": {},
   "outputs": [],
   "source": [
    "def place_symbol(board,symbol,position):\n",
    "    board[position] = symbol\n"
   ]
  },
  {
   "cell_type": "code",
   "execution_count": 7,
   "id": "f7204f6a-6763-4e88-9d3a-5e1ccafa4396",
   "metadata": {},
   "outputs": [],
   "source": [
    "def position_input(board):\n",
    "    position = 0\n",
    "    while position not in range(1,10) or not space_check(board,position):\n",
    "        position = int(input(\"please enter a number(1-9): \"))\n",
    "        if position not in range(1,10):\n",
    "            print(\"please enter a number between(1-9): \")\n",
    "        else:\n",
    "            pass\n",
    "        if space_check(board,position) == False:\n",
    "            display_board(board)\n",
    "            print(\"The place is already filled please select a diffrent position\")\n",
    "        else:\n",
    "            pass\n",
    "    return position"
   ]
  },
  {
   "cell_type": "code",
   "execution_count": 19,
   "id": "b27c1ae3-570c-4d10-8428-add4f4a81fea",
   "metadata": {},
   "outputs": [],
   "source": [
    "def win_check(game_board,symbol):\n",
    "    return (game_board[1] == game_board[2] == game_board[3] == symbol) or (game_board[4] == game_board[5] == game_board[6] == symbol) or (game_board[7] == game_board[8] == game_board[9] == symbol) or (game_board[1] == game_board[5] == game_board[9] == symbol) or (game_board[3] == game_board[5] == game_board[7] == symbol) or  (game_board[1] == game_board[4] == game_board[7] == symbol) or  (game_board[2] == game_board[5] == game_board[8] == symbol) or  (game_board[3] == game_board[6] == game_board[9] == symbol)"
   ]
  },
  {
   "cell_type": "code",
   "execution_count": 11,
   "id": "2ae73e52-cc75-4f16-906a-d96535ba3313",
   "metadata": {},
   "outputs": [],
   "source": [
    "def space_check(board,position):\n",
    "    return board[position] == ' '\n",
    "    "
   ]
  },
  {
   "cell_type": "code",
   "execution_count": 13,
   "id": "3c89008f-7e9e-4af6-882e-6a8c2a559d3d",
   "metadata": {},
   "outputs": [],
   "source": [
    "def full_board_check(board):\n",
    "    for i in range(1,10):\n",
    "        if space_check(board,i):\n",
    "            return False\n",
    "    return True"
   ]
  },
  {
   "cell_type": "code",
   "execution_count": 15,
   "id": "84907bc6-3921-48c5-af47-ec41d2aac2e0",
   "metadata": {},
   "outputs": [],
   "source": [
    "def replay():\n",
    "    choice = input(\"Do you want to play again: (Enter Y or N) \").upper()\n",
    "    return choice == 'Y'\n",
    "    "
   ]
  },
  {
   "cell_type": "code",
   "execution_count": null,
   "id": "916486b7-6797-4de3-814b-cae795d20daa",
   "metadata": {},
   "outputs": [
    {
     "name": "stdout",
     "output_type": "stream",
     "text": [
      "X|O|X\n",
      "O|X|O\n",
      "X| | \n",
      "Player1 wins\n"
     ]
    }
   ],
   "source": [
    "print(\"Welcome to Tic Tac Toe!\")\n",
    "\n",
    "while True:\n",
    "    game_on = False\n",
    "    the_board = [' '] * 1000\n",
    "    player1_choice, player2_choice = player_choose()\n",
    "    if player1_choice == 'X':\n",
    "        print(\"player1 will go first\")\n",
    "    else:\n",
    "        print(\"player2 will go first\")\n",
    "\n",
    "    play_game = input(\"Ready to play? y or n\").upper()\n",
    "\n",
    "    if play_game == 'Y':\n",
    "        game_on = True\n",
    "    else:\n",
    "        game_on = False\n",
    "\n",
    "    while game_on:\n",
    "        if player1_choice == 'X':\n",
    "            display_board(the_board)\n",
    "            position = position_input(the_board)\n",
    "            place_symbol(the_board,player1_choice,position)\n",
    "            if win_check(the_board,player1_choice) == True:\n",
    "                display_board(the_board)\n",
    "                print(\"Player1 wins\")\n",
    "                game_on = False\n",
    "            else:\n",
    "                if full_board_check(the_board) == True:\n",
    "                    display_board(the_board)\n",
    "                    print(\"Noone wins! Its a tie\")\n",
    "                    game_on = False\n",
    "                else:\n",
    "                    display_board(the_board)\n",
    "                    position = position_input(the_board)\n",
    "                    place_symbol(the_board,player2_choice,position)\n",
    "                    if win_check(the_board,player2_choice) == True:\n",
    "                        display_board(the_board)\n",
    "                        print(\"player2 wins\")\n",
    "                    else: \n",
    "                        if full_board_check == True:\n",
    "                            print(\"Noone wins! Its a tie\")\n",
    "                            game_on = False\n",
    "        else:\n",
    "            display_board(the_board)\n",
    "            position = position_input(the_board)\n",
    "            place_symbol(the_board,player2_choice,position)\n",
    "            if win_check(the_board,player2_choice) == True:\n",
    "                display_board(the_board)\n",
    "                print(\"Player2 wins\")\n",
    "                game_on = False\n",
    "            else:\n",
    "                if full_board_check(the_board) == True:\n",
    "                    display_board(the_board)\n",
    "                    print(\"Noone wins! Its a tie\")\n",
    "                    game_on = False\n",
    "                else:\n",
    "                    display_board(the_board)\n",
    "                    position = position_input(the_board)\n",
    "                    place_symbol(the_board,player1_choice,position)\n",
    "                    if win_check(the_board,player1_choice) == True:\n",
    "                        display_board(the_board)\n",
    "                        print(\"player1 wins\")\n",
    "                    else: \n",
    "                        if full_board_check == True:\n",
    "                            print(\"Noone wins! Its a tie\")\n",
    "                            game_on = False\n",
    "        \n",
    "\n",
    "\n",
    "\n",
    "\n",
    "\n",
    "    if replay() == False:\n",
    "        break"
   ]
  },
  {
   "cell_type": "code",
   "execution_count": null,
   "id": "1acbf2ee-0b6e-423d-b045-66dfcf1e47d1",
   "metadata": {},
   "outputs": [],
   "source": []
  },
  {
   "cell_type": "code",
   "execution_count": null,
   "id": "6ce47a7b-ede8-41d3-a1ad-3d583e051953",
   "metadata": {},
   "outputs": [],
   "source": []
  }
 ],
 "metadata": {
  "kernelspec": {
   "display_name": "Python 3 (ipykernel)",
   "language": "python",
   "name": "python3"
  },
  "language_info": {
   "codemirror_mode": {
    "name": "ipython",
    "version": 3
   },
   "file_extension": ".py",
   "mimetype": "text/x-python",
   "name": "python",
   "nbconvert_exporter": "python",
   "pygments_lexer": "ipython3",
   "version": "3.12.4"
  }
 },
 "nbformat": 4,
 "nbformat_minor": 5
}
